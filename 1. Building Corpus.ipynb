{
 "cells": [
  {
   "cell_type": "markdown",
   "metadata": {},
   "source": [
    "## Authentication of Twitter API"
   ]
  },
  {
   "cell_type": "code",
   "execution_count": 2,
   "metadata": {},
   "outputs": [],
   "source": [
    "import tweepy\n",
    "import pandas as pd\n",
    "import pickle\n",
    "\n",
    " \n",
    "auth = tweepy.OAuthHandler(consumer_api_key, consumer_api_secret_key)\n",
    "auth.set_access_token(access_token, access_token_secret)\n",
    "api = tweepy.API(auth)\n",
    "api = tweepy.API(auth, wait_on_rate_limit=True, wait_on_rate_limit_notify=True)"
   ]
  },
  {
   "cell_type": "markdown",
   "metadata": {},
   "source": [
    "## Read the mobileCarrier.pkl, which contains historical data"
   ]
  },
  {
   "cell_type": "code",
   "execution_count": 23,
   "metadata": {},
   "outputs": [
    {
     "data": {
      "text/plain": [
       "(213859, 4)"
      ]
     },
     "execution_count": 23,
     "metadata": {},
     "output_type": "execute_result"
    }
   ],
   "source": [
    "with open ('mobileCarriers.pkl','rb') as pkl_file:\n",
    "    df = pickle.load(pkl_file)\n",
    "\n",
    "df.shape"
   ]
  },
  {
   "cell_type": "code",
   "execution_count": 22,
   "metadata": {},
   "outputs": [
    {
     "data": {
      "text/html": [
       "<div>\n",
       "<style scoped>\n",
       "    .dataframe tbody tr th:only-of-type {\n",
       "        vertical-align: middle;\n",
       "    }\n",
       "\n",
       "    .dataframe tbody tr th {\n",
       "        vertical-align: top;\n",
       "    }\n",
       "\n",
       "    .dataframe thead th {\n",
       "        text-align: right;\n",
       "    }\n",
       "</style>\n",
       "<table border=\"1\" class=\"dataframe\">\n",
       "  <thead>\n",
       "    <tr style=\"text-align: right;\">\n",
       "      <th></th>\n",
       "      <th>screen_name</th>\n",
       "      <th>date_time</th>\n",
       "      <th>location</th>\n",
       "      <th>text</th>\n",
       "    </tr>\n",
       "  </thead>\n",
       "  <tbody>\n",
       "    <tr>\n",
       "      <th>0</th>\n",
       "      <td>leila_fong</td>\n",
       "      <td>2019-10-23 23:57:59</td>\n",
       "      <td>Illinois, USA</td>\n",
       "      <td>@ATTHelp I’m blocking, but then they change th...</td>\n",
       "    </tr>\n",
       "    <tr>\n",
       "      <th>1</th>\n",
       "      <td>SnackEvangelist</td>\n",
       "      <td>2019-10-23 23:57:44</td>\n",
       "      <td></td>\n",
       "      <td>@ATTHelp Just logged into my account and it’s ...</td>\n",
       "    </tr>\n",
       "    <tr>\n",
       "      <th>2</th>\n",
       "      <td>DeathboxTy</td>\n",
       "      <td>2019-10-23 23:54:34</td>\n",
       "      <td></td>\n",
       "      <td>@ATTHelp can’t get my Visual Voicemail to work...</td>\n",
       "    </tr>\n",
       "    <tr>\n",
       "      <th>3</th>\n",
       "      <td>BLoLovesYou</td>\n",
       "      <td>2019-10-23 23:54:05</td>\n",
       "      <td>San Antonio, TX</td>\n",
       "      <td>@ATTHelp You were charging me $150 for an outd...</td>\n",
       "    </tr>\n",
       "    <tr>\n",
       "      <th>4</th>\n",
       "      <td>ATTHelp</td>\n",
       "      <td>2019-10-23 23:53:02</td>\n",
       "      <td></td>\n",
       "      <td>@leila_fong Hey, Leila, we're here to help. Cl...</td>\n",
       "    </tr>\n",
       "  </tbody>\n",
       "</table>\n",
       "</div>"
      ],
      "text/plain": [
       "       screen_name           date_time         location  \\\n",
       "0       leila_fong 2019-10-23 23:57:59    Illinois, USA   \n",
       "1  SnackEvangelist 2019-10-23 23:57:44                    \n",
       "2       DeathboxTy 2019-10-23 23:54:34                    \n",
       "3      BLoLovesYou 2019-10-23 23:54:05  San Antonio, TX   \n",
       "4          ATTHelp 2019-10-23 23:53:02                    \n",
       "\n",
       "                                                text  \n",
       "0  @ATTHelp I’m blocking, but then they change th...  \n",
       "1  @ATTHelp Just logged into my account and it’s ...  \n",
       "2  @ATTHelp can’t get my Visual Voicemail to work...  \n",
       "3  @ATTHelp You were charging me $150 for an outd...  \n",
       "4  @leila_fong Hey, Leila, we're here to help. Cl...  "
      ]
     },
     "execution_count": 22,
     "metadata": {},
     "output_type": "execute_result"
    }
   ],
   "source": [
    "df.head()"
   ]
  },
  {
   "cell_type": "markdown",
   "metadata": {},
   "source": [
    "## Task: Fetch new data on a certain date"
   ]
  },
  {
   "cell_type": "code",
   "execution_count": 14,
   "metadata": {},
   "outputs": [],
   "source": [
    "def getTweets(searchString, df):\n",
    "    for tweet in tweepy.Cursor(api.search, q=searchString, lang='en', since='2019-10-23', until='2019-10-24').items():\n",
    "        df = df.append(pd.Series([tweet.user.screen_name, tweet.created_at, tweet.user.location, tweet.text], index=df.columns), ignore_index=True)\n",
    "    return df"
   ]
  },
  {
   "cell_type": "code",
   "execution_count": 15,
   "metadata": {
    "scrolled": true
   },
   "outputs": [],
   "source": [
    "# dataframe in one day batch\n",
    "df_tmp = pd.DataFrame(columns=['screen_name', 'date_time', 'location', 'text'])"
   ]
  },
  {
   "cell_type": "code",
   "execution_count": 16,
   "metadata": {},
   "outputs": [
    {
     "name": "stderr",
     "output_type": "stream",
     "text": [
      "Rate limit reached. Sleeping for: 242\n"
     ]
    }
   ],
   "source": [
    "df_tmp = getTweets('VerizonSupport', df_tmp)\n",
    "df_tmp = getTweets('verizon', df_tmp)\n",
    "df_tmp = getTweets('VZWSupport', df_tmp)\n",
    "df_tmp = getTweets('ATT', df_tmp)\n",
    "df_tmp = getTweets('ATTHelp', df_tmp)\n",
    "df_tmp = getTweets('TMobile', df_tmp)\n",
    "df_tmp = getTweets('TMobileHelp', df_tmp)"
   ]
  },
  {
   "cell_type": "code",
   "execution_count": 17,
   "metadata": {
    "scrolled": true
   },
   "outputs": [
    {
     "data": {
      "text/plain": [
       "(       screen_name           date_time         location  \\\n",
       " 0       leila_fong 2019-10-23 23:57:59    Illinois, USA   \n",
       " 1  SnackEvangelist 2019-10-23 23:57:44                    \n",
       " 2       DeathboxTy 2019-10-23 23:54:34                    \n",
       " 3      BLoLovesYou 2019-10-23 23:54:05  San Antonio, TX   \n",
       " 4          ATTHelp 2019-10-23 23:53:02                    \n",
       " \n",
       "                                                 text  \n",
       " 0  @ATTHelp I’m blocking, but then they change th...  \n",
       " 1  @ATTHelp Just logged into my account and it’s ...  \n",
       " 2  @ATTHelp can’t get my Visual Voicemail to work...  \n",
       " 3  @ATTHelp You were charging me $150 for an outd...  \n",
       " 4  @leila_fong Hey, Leila, we're here to help. Cl...  , (4497, 4))"
      ]
     },
     "execution_count": 17,
     "metadata": {},
     "output_type": "execute_result"
    }
   ],
   "source": [
    "df_tmp.head(), df_tmp.shape"
   ]
  },
  {
   "cell_type": "markdown",
   "metadata": {},
   "source": [
    "## Concat the new data to previous dataframe"
   ]
  },
  {
   "cell_type": "code",
   "execution_count": 18,
   "metadata": {
    "scrolled": true
   },
   "outputs": [],
   "source": [
    "df = pd.concat([df_tmp,df], ignore_index=True)"
   ]
  },
  {
   "cell_type": "code",
   "execution_count": 19,
   "metadata": {},
   "outputs": [
    {
     "data": {
      "text/plain": [
       "(213859, 4)"
      ]
     },
     "execution_count": 19,
     "metadata": {},
     "output_type": "execute_result"
    }
   ],
   "source": [
    "df.shape"
   ]
  },
  {
   "cell_type": "markdown",
   "metadata": {},
   "source": [
    "## Store all data into the pickle"
   ]
  },
  {
   "cell_type": "code",
   "execution_count": 20,
   "metadata": {},
   "outputs": [],
   "source": [
    "with open('mobileCarriers.pkl', 'wb') as pkl_file:\n",
    "    pickle.dump(df, pkl_file) "
   ]
  }
 ],
 "metadata": {
  "kernelspec": {
   "display_name": "Python 3",
   "language": "python",
   "name": "python3"
  },
  "language_info": {
   "codemirror_mode": {
    "name": "ipython",
    "version": 3
   },
   "file_extension": ".py",
   "mimetype": "text/x-python",
   "name": "python",
   "nbconvert_exporter": "python",
   "pygments_lexer": "ipython3",
   "version": "3.7.3"
  }
 },
 "nbformat": 4,
 "nbformat_minor": 2
}
